{
  "nbformat": 4,
  "nbformat_minor": 0,
  "metadata": {
    "colab": {
      "provenance": [],
      "authorship_tag": "ABX9TyNp7/O01ljV8Jp2ywDr0pmE",
      "include_colab_link": true
    },
    "kernelspec": {
      "name": "python3",
      "display_name": "Python 3"
    },
    "language_info": {
      "name": "python"
    }
  },
  "cells": [
    {
      "cell_type": "markdown",
      "metadata": {
        "id": "view-in-github",
        "colab_type": "text"
      },
      "source": [
        "<a href=\"https://colab.research.google.com/github/catastropiyush/Splinezz/blob/main/Spline_Interpolation.ipynb\" target=\"_parent\"><img src=\"https://colab.research.google.com/assets/colab-badge.svg\" alt=\"Open In Colab\"/></a>"
      ]
    },
    {
      "cell_type": "code",
      "execution_count": null,
      "metadata": {
        "colab": {
          "base_uri": "https://localhost:8080/"
        },
        "id": "o6GTj6eey9Co",
        "outputId": "b7acd051-427a-43fa-b7b4-5d16262672b9"
      },
      "outputs": [
        {
          "output_type": "stream",
          "name": "stdout",
          "text": [
            "[[ 1.  0.  0.  0.  0.]\n",
            " [ 2.  6.  1.  0.  0.]\n",
            " [ 0.  1.  4.  1.  0.]\n",
            " [ 0.  0.  1. 10.  4.]\n",
            " [ 0.  0.  0.  0.  1.]]\n"
          ]
        }
      ],
      "source": [
        "#Piyush R.Maharana\n",
        "import numpy as np\n",
        "import matplotlib.pyplot as plt\n",
        "P = np.zeros((5,5))\n",
        "h1=[2,1,1,4] ; H1=[3,3,-1,8]\n",
        "N=4\n",
        "for w in range(1,N):\n",
        "  P[w][w+1]   = h1[w]\n",
        "for k in range(0,N-1):\n",
        "  P[k+1][k]   = h1[k]\n",
        "for l in range(1,N):\n",
        "  P[l][l] = 2*(P[l][l-1]+P[l][l+1])\n",
        "P[0][0]=1\n",
        "P[N][N]=1\n",
        "print(P)"
      ]
    },
    {
      "cell_type": "code",
      "source": [
        "H1 = [3,3,-1,8]\n",
        "h1  =[2,1,1,4]\n",
        "B=np.zeros((5,1))\n",
        "for s in range(1,len(B)-1):\n",
        "  B[s][0]=3*((H1[s]/h1[s])-(H1[s-1]/h1[s-1]))\n",
        "print(B)"
      ],
      "metadata": {
        "colab": {
          "base_uri": "https://localhost:8080/"
        },
        "id": "nzLGSmfszaOo",
        "outputId": "c8cf7abd-438d-4cf3-b32c-b1f8923447b3"
      },
      "execution_count": null,
      "outputs": [
        {
          "output_type": "stream",
          "name": "stdout",
          "text": [
            "[[  0. ]\n",
            " [  4.5]\n",
            " [-12. ]\n",
            " [  9. ]\n",
            " [  0. ]]\n"
          ]
        }
      ]
    },
    {
      "cell_type": "code",
      "source": [
        "B[2][0]"
      ],
      "metadata": {
        "colab": {
          "base_uri": "https://localhost:8080/"
        },
        "id": "g7OjumyiS1qW",
        "outputId": "3ec61da0-fa09-486a-bf0b-600a9578212d"
      },
      "execution_count": null,
      "outputs": [
        {
          "output_type": "execute_result",
          "data": {
            "text/plain": [
              "-12.0"
            ]
          },
          "metadata": {},
          "execution_count": 33
        }
      ]
    },
    {
      "cell_type": "code",
      "source": [
        "#Thomas Algorithm\n",
        "gamma  = [0]*N\n",
        "rho    = [0]*(N+1)\n",
        "gamma[0] = P[0][1]/P[0][0]\n",
        "rho[0]   = B[0][0]/P[0][0]\n",
        "for o in range(1,N):\n",
        "#gamma[1]=P[1][2]/(P[1][1]-gamma[0]*P[1][0])\n",
        "  gamma[o]=P[o][o+1]/(P[o][o]-gamma[o-1]*P[o][o-1])\n",
        "for z in range(1,N+1):\n",
        "   rho[z]=(B[z][0]-rho[z-1]*P[z][z-1])/(P[z][z]-gamma[z-1]*P[z][z-1])"
      ],
      "metadata": {
        "id": "2osoI9kk5omM"
      },
      "execution_count": null,
      "outputs": []
    },
    {
      "cell_type": "code",
      "source": [
        "rho"
      ],
      "metadata": {
        "colab": {
          "base_uri": "https://localhost:8080/"
        },
        "id": "KC2fySNLskUT",
        "outputId": "743f1c57-5582-45e5-8a59-0072de599efc"
      },
      "execution_count": null,
      "outputs": [
        {
          "output_type": "execute_result",
          "data": {
            "text/plain": [
              "[0.0, 0.75, -3.326086956521739, 1.2656249999999998, 0.0]"
            ]
          },
          "metadata": {},
          "execution_count": 82
        }
      ]
    },
    {
      "cell_type": "code",
      "source": [
        "rho1    = [0]*(N+1)\n",
        "rho1[0]  = B[0][0]/P[0][0]\n",
        "rho1=[(B[z][0]-rho[z-1]*P[z][z-1])/(P[z][z]-gamma[z-1]*P[z][z-1]) for z in range(1,N+1)]\n",
        "rho1"
      ],
      "metadata": {
        "colab": {
          "base_uri": "https://localhost:8080/"
        },
        "id": "wY4wgyy5sXOk",
        "outputId": "1fcb2288-cae8-4251-8b29-5e5dbc8972e2"
      },
      "execution_count": null,
      "outputs": [
        {
          "output_type": "execute_result",
          "data": {
            "text/plain": [
              "[0.75, -3.326086956521739, 1.2656249999999998, 0.0]"
            ]
          },
          "metadata": {},
          "execution_count": 97
        }
      ]
    },
    {
      "cell_type": "code",
      "source": [
        "c=[0]*(N+1)\n",
        "c[-1]=rho[-1]\n",
        "for t in reversed(range(0,N)):\n",
        "  c[t]=rho[t]-gamma[t]*c[t+1]\n",
        "print(c)"
      ],
      "metadata": {
        "colab": {
          "base_uri": "https://localhost:8080/"
        },
        "id": "Gs5l882cB7mp",
        "outputId": "6b6ba9ea-bf58-4be7-dddb-5165777d69fa"
      },
      "execution_count": null,
      "outputs": [
        {
          "output_type": "stream",
          "name": "stdout",
          "text": [
            "[0.0, 1.359375, -3.6562499999999996, 1.2656249999999998, 0.0]\n"
          ]
        }
      ]
    },
    {
      "cell_type": "code",
      "source": [
        "c1 = [rho[t]-gamma[t]*c[t+1] for t in reversed(range(0,N))]"
      ],
      "metadata": {
        "id": "_OXeOz-YrG4p"
      },
      "execution_count": null,
      "outputs": []
    },
    {
      "cell_type": "code",
      "source": [
        "#b coefficient nikalna hai\n",
        "b=[0]*N\n",
        "for g in range(0,N):\n",
        "  b[g]=(H1[g]/h1[g])-(h1[g]/3)*(2*c[g]+c[g+1])\n",
        " "
      ],
      "metadata": {
        "id": "6ZOf4jL5VKti"
      },
      "execution_count": null,
      "outputs": []
    },
    {
      "cell_type": "code",
      "source": [
        " b1 = [(H1[g]/h1[g])-(h1[g]/3)*(2*c[g]+c[g+1]) for g in range(0,N)]\n",
        " b1"
      ],
      "metadata": {
        "colab": {
          "base_uri": "https://localhost:8080/"
        },
        "id": "uRg_zjX9r9jN",
        "outputId": "6b60602f-68f1-4ff4-fe3c-9732172aa201"
      },
      "execution_count": null,
      "outputs": [
        {
          "output_type": "execute_result",
          "data": {
            "text/plain": [
              "[0.59375, 3.3125, 1.0156249999999996, -1.3749999999999991]"
            ]
          },
          "metadata": {},
          "execution_count": 80
        }
      ]
    },
    {
      "cell_type": "code",
      "source": [
        "b"
      ],
      "metadata": {
        "colab": {
          "base_uri": "https://localhost:8080/"
        },
        "id": "WQpT0bIwXCu8",
        "outputId": "c3f367ee-6ce1-49d9-a41f-d76133e8a6cf"
      },
      "execution_count": null,
      "outputs": [
        {
          "output_type": "execute_result",
          "data": {
            "text/plain": [
              "[0.59375, 3.3125, 1.0156249999999996, -1.3749999999999991]"
            ]
          },
          "metadata": {},
          "execution_count": 54
        }
      ]
    },
    {
      "cell_type": "code",
      "source": [
        "d=[0]*N\n",
        "for e in range(0,N):\n",
        "  d[e]=(c[e+1]-c[e])/(3*h1[e])"
      ],
      "metadata": {
        "id": "vaVPCvnDXS9S"
      },
      "execution_count": null,
      "outputs": []
    },
    {
      "cell_type": "code",
      "source": [
        " d1=[0]*N\n",
        " d1 = [(c[e+1]-c[e])/(3*h1[e]) for e in range(0,N)]\n",
        " print(d1)"
      ],
      "metadata": {
        "colab": {
          "base_uri": "https://localhost:8080/"
        },
        "id": "KTJlytZJhAr8",
        "outputId": "915fc6dd-4aaf-4115-fcf8-cdbd2c78d1bd"
      },
      "execution_count": null,
      "outputs": [
        {
          "output_type": "stream",
          "name": "stdout",
          "text": [
            "[0.2265625, -1.671875, 1.6406249999999998, -0.10546874999999999]\n"
          ]
        }
      ]
    },
    {
      "cell_type": "code",
      "source": [
        "d"
      ],
      "metadata": {
        "colab": {
          "base_uri": "https://localhost:8080/"
        },
        "id": "lD-IIk7xYF6V",
        "outputId": "3fe93866-1a6f-4863-a4c7-2018492a355a"
      },
      "execution_count": null,
      "outputs": [
        {
          "output_type": "execute_result",
          "data": {
            "text/plain": [
              "[0.2265625, -1.671875, 1.6406249999999998, -0.10546874999999999]"
            ]
          },
          "metadata": {},
          "execution_count": 60
        }
      ]
    },
    {
      "cell_type": "code",
      "source": [
        "x=[1,3,4,5,9] ; y=[2,5,8,7,15]\n",
        "h1=[2,1,1,4] ; H1=[3,3,-1,8]"
      ],
      "metadata": {
        "id": "lfKPibKMYbkv"
      },
      "execution_count": null,
      "outputs": []
    },
    {
      "cell_type": "code",
      "source": [
        "x1=np.linspace(0,20,100)\n",
        "def spline(r):\n",
        "  return y[r]+b[r]*(x1-x[r])+c[r]*(x1-x[r])**2+d[r]*(x1-x[r])**3\n",
        "plt.plot(x1,spline(0))\n",
        "plt.plot(x1,spline(1))\n",
        "plt.plot(x1,spline(2))\n",
        "plt.plot(x1,spline(3))\n"
      ],
      "metadata": {
        "colab": {
          "base_uri": "https://localhost:8080/",
          "height": 282
        },
        "id": "20Tz1hNyY4nn",
        "outputId": "b338ed6b-6e8f-46c7-fa19-eeb54df17894"
      },
      "execution_count": null,
      "outputs": [
        {
          "output_type": "execute_result",
          "data": {
            "text/plain": [
              "[<matplotlib.lines.Line2D at 0x7fb11d2c9c90>]"
            ]
          },
          "metadata": {},
          "execution_count": 75
        },
        {
          "output_type": "display_data",
          "data": {
            "text/plain": [
              "<Figure size 432x288 with 1 Axes>"
            ],
            "image/png": "[encoded data removed]"
          },
          "metadata": {
            "needs_background": "light"
          }
        }
      ]
    },
    {
      "cell_type": "code",
      "source": [],
      "metadata": {
        "id": "VkYJHvSSK1Zz"
      },
      "execution_count": null,
      "outputs": []
    },
    {
      "cell_type": "code",
      "execution_count": null,
      "metadata": {
        "colab": {
          "base_uri": "https://localhost:8080/"
        },
        "id": "j1sqcHlsQGiW",
        "outputId": "b5e73d28-bb03-4619-ed36-de79c334df80"
      },
      "outputs": [
        {
          "name": "stdout",
          "output_type": "stream",
          "text": [
            "h\n",
            "[2, 1, 1, 4]\n",
            "H\n",
            "[3, 3, -1, 8]\n",
            "Matrix A\n",
            "[[ 1.  0.  0.  0.  0.]\n",
            " [ 2.  6.  1.  0.  0.]\n",
            " [ 0.  1.  4.  1.  0.]\n",
            " [ 0.  0.  1. 10.  4.]\n",
            " [ 0.  0.  0.  0.  1.]]\n",
            "Matrix B\n",
            "[[  0. ]\n",
            " [  4.5]\n",
            " [-12. ]\n",
            " [  9. ]\n",
            " [  0. ]]\n",
            "rho\n",
            "[0.0, 0.75, -3.326086956521739, 1.2656249999999998, 0.0]\n",
            "gamma\n",
            "[0.0, 0.16666666666666666, 0.2608695652173913, 0.4107142857142857]\n",
            "c\n",
            "[0.0, 1.359375, -3.6562499999999996, 1.2656249999999998, 0.0]\n",
            "b\n",
            "[0.59375, 3.3125, 1.0156249999999996, -1.3749999999999991]\n",
            "d\n",
            "[0.2265625, -1.671875, 1.6406249999999998, -0.10546874999999999]\n"
          ]
        }
      ],
      "source": [
        "#Spline Interpolation Piyush Oct 12,2022\n",
        "#3:33 spline ho gaya\n",
        "import numpy as np\n",
        "import matplotlib.pyplot as plt\n",
        "\n",
        "#input data\n",
        "x=[1,3,4,5,9] ; y=[2,5,8,7,15]\n",
        "N=len(x)-1\n",
        "\n",
        "h =[0]*N   ; H =[0]*N   #x diff and y diff\n",
        "b =[0]*N   ; d =[0]*N\n",
        "\n",
        "for i in range(0,N):\n",
        "  h[i]=x[i+1]-x[i]\n",
        "  H[i]=y[i+1]-y[i]\n",
        "A = np.zeros((5,5))\n",
        "print(\"h\");print(h)\n",
        "print(\"H\");print(H)\n",
        "\n",
        "A[0][0]=1; A[N,N]=1 #Boundary conditions\n",
        "\n",
        "#Constructing A\n",
        "for w in range(1,N):\n",
        "  A[w][w+1]   = h[w]\n",
        "for k in range(0,N-1):\n",
        "  A[k+1][k]   = h[k]\n",
        "for l in range(1,N):\n",
        "  A[l][l] = 2*(A[l][l-1]+A[l][l+1])\n",
        "print(\"Matrix A\");print(A)\n",
        "\n",
        "B=np.zeros((5,1))\n",
        "for s in range(1,len(B)-1):\n",
        "  B[s][0]=3*((H[s]/h[s])-(H[s-1]/h[s-1]))\n",
        "print(\"Matrix B\");print(B)\n",
        "\n",
        "#Thomas Algorithm to solve tridiagonal matrix\n",
        "gamma  = [0]*N\n",
        "rho    = [0]*(N+1)\n",
        "gamma[0] = A[0][1]/A[0][0]\n",
        "rho[0]   = B[0][0]/A[0][0]\n",
        "\n",
        "for o in range(1,N):\n",
        "  gamma[o]=A[o][o+1]/(A[o][o]-gamma[o-1]*A[o][o-1])\n",
        "for z in range(1,N+1):\n",
        "   rho[z]=(B[z][0]-rho[z-1]*A[z][z-1])/(A[z][z]-gamma[z-1]*A[z][z-1])\n",
        "print(\"rho\");print(rho)\n",
        "print(\"gamma\"); print(gamma)\n",
        "\n",
        "c=[0]*(N+1)\n",
        "c[-1]=rho[-1]\n",
        "for t in reversed(range(0,N)):\n",
        "  c[t]=rho[t]-gamma[t]*c[t+1]\n",
        "print(\"c\");print(c)\n",
        "\n",
        "#calculate coefficients\n",
        "b = [(H[g]/h[g])-(h[g]/3)*(2*c[g]+c[g+1]) for g in range(0,N)]\n",
        "print(\"b\");print(b)\n",
        "d = [(c[e+1]-c[e])/(3*h[e]) for e in range(0,N)]\n",
        "print(\"d\");print(d)"
      ]
    },
    {
      "cell_type": "markdown",
      "source": [
        "![image.png](data:image/png;base64,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)"
      ],
      "metadata": {
        "id": "QzLkdrDSK5Uh"
      }
    },
    {
      "cell_type": "code",
      "source": [],
      "metadata": {
        "id": "z9a3dnJcK56i"
      },
      "execution_count": null,
      "outputs": []
    }
  ]
}